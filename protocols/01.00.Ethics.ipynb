{
 "cells": [
  {
   "cell_type": "markdown",
   "metadata": {},
   "source": [
    "<!--NAVIGATION-->\n",
    "____\n",
    "\n",
    "< [Preface](00.00.Preface.ipynb) | [Contents](00.00.00.Index.ipynb) | [Data Management](02.00.DataManagement.ipynb) >\n",
    "\n",
    "____"
   ]
  },
  {
   "cell_type": "markdown",
   "metadata": {},
   "source": [
    "# 1. Ethics"
   ]
  },
  {
   "cell_type": "markdown",
   "metadata": {},
   "source": [
    "In this section you will find miscellaneous protocols for handling biological digital data. Many of these procedures apply in various areas of research, and thus are placed in their own transdisciplinary section. Protocols from disciplinary tasks may reference this procedures as part of their workflows."
   ]
  },
  {
   "cell_type": "markdown",
   "metadata": {},
   "source": [
    "### In this section:\n",
    "\n",
    "<!-- Contents in \"Ethics and Policy Guidelines and Procedures\" -->\n",
    "- [Ethical Conduct in Research](01.01.EthicalConduct.ipynb)\n",
    "- [Ethics Committee Procedures](01.02.EthicsCommitteeProcedures.ipynb)\n",
    "- [Research Norms and Regulations](01.03.NormsAndRegulations.ipynb)"
   ]
  },
  {
   "cell_type": "markdown",
   "metadata": {},
   "source": [
    "____\n",
    "\n",
    "*This notebook is part of the GitHub repository of Research Protocols maintained by the [__Biodiversity, Evolution and Conservation (BEC) Research Group__](http://www.eafit.edu.co/investigacion/grupos/bec/Paginas/inicio.aspx) at [__Universidad EAFIT__](https://www.eafit.edu.co).*\n",
    "\n",
    "*The contents of this repository are released under the [CC BY-SA 4.0 International license](https://creativecommons.org/licenses/by-sa/4.0/legalcode). If you find these protocols useful, please cite the repository as:*  \n",
    "\n",
    "BEC, Biodiversity Evolution and Conservation Research Group at Universidad EAFIT. 2020. BEC Research Protocols, v0.1, Zenodo, doi:  \n",
    "\n",
    "Download [BibTeX File](BEC-ResearchProtocols.bib)"
   ]
  }
 ],
 "metadata": {
  "anaconda-cloud": {},
  "kernelspec": {
   "display_name": "Python 3",
   "language": "python",
   "name": "python3"
  },
  "language_info": {
   "codemirror_mode": {
    "name": "ipython",
    "version": 3
   },
   "file_extension": ".py",
   "mimetype": "text/x-python",
   "name": "python",
   "nbconvert_exporter": "python",
   "pygments_lexer": "ipython3",
   "version": "3.7.6"
  }
 },
 "nbformat": 4,
 "nbformat_minor": 4
}
