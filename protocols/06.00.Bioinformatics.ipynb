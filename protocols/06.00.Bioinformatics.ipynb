{
 "cells": [
  {
   "cell_type": "markdown",
   "metadata": {},
   "source": [
    "<!--NAVIGATION-->\n",
    "____\n",
    "\n",
    "< [Microbiology and Microbiomes](05.00.MicrobiologyMicrobiomes.ipynb) | [Contents](00.00.00.Index.ipynb) | [Phylogenetics](07.00.Phylogenetics.ipynb) >\n",
    "\n",
    "____"
   ]
  },
  {
   "cell_type": "markdown",
   "metadata": {},
   "source": [
    "# 6. Bioinformatics"
   ]
  },
  {
   "cell_type": "markdown",
   "metadata": {},
   "source": [
    "In this section you will find miscellaneous protocols for handling biological digital data. Many of these procedures apply in various areas of research, and thus are placed in their own transdisciplinary section. Protocols from disciplinary tasks may reference this procedures as part of their workflows."
   ]
  },
  {
   "cell_type": "markdown",
   "metadata": {},
   "source": [
    "### In this section:\n",
    "<!-- Contents in \"Bioinformatics\" -->\n",
    "- [Pre-processing Illumina Sequences](06.01.PreprocessingIllumina.ipynb)\n",
    "- [Pre-processing ONT Sequences](06.02.PreprocessingONT.ipynb)"
   ]
  },
  {
   "cell_type": "markdown",
   "metadata": {},
   "source": [
    "____\n",
    "\n",
    "*This notebook is part of the GitHub repository of Research Protocols maintained by the [__Biodiversity, Evolution and Conservation (BEC) Research Group__](http://www.eafit.edu.co/investigacion/grupos/bec/Paginas/inicio.aspx) at [__Universidad EAFIT__](https://www.eafit.edu.co).*\n",
    "\n",
    "*The contents of this repository are released under the [CC BY-SA 4.0 International license](https://creativecommons.org/licenses/by-sa/4.0/legalcode). If you find these protocols useful, please cite the repository as:*  \n",
    "\n",
    "BEC, Biodiversity Evolution and Conservation Research Group at Universidad EAFIT. 2020. BEC Research Protocols, v0.1, Zenodo, doi:  \n",
    "\n",
    "Download [BibTeX File](BEC-ResearchProtocols.bib)"
   ]
  }
 ],
 "metadata": {
  "anaconda-cloud": {},
  "kernelspec": {
   "display_name": "Python 3",
   "language": "python",
   "name": "python3"
  },
  "language_info": {
   "codemirror_mode": {
    "name": "ipython",
    "version": 3
   },
   "file_extension": ".py",
   "mimetype": "text/x-python",
   "name": "python",
   "nbconvert_exporter": "python",
   "pygments_lexer": "ipython3",
   "version": "3.7.6"
  }
 },
 "nbformat": 4,
 "nbformat_minor": 4
}
