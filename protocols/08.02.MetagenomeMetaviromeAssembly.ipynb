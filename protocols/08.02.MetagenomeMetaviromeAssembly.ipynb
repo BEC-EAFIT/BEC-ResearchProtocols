{
 "cells": [
  {
   "cell_type": "markdown",
   "metadata": {},
   "source": [
    "<!--NAVIGATION-->\n",
    "____\n",
    "\n",
    "< [Previous protocol in section]() | [Computational and Microbial Ecology](08.00.ComputationalAndMicrobialEcology.ipynb) | [Contents](00.00.00.Index.ipynb) | [Next protocol in section]() >\n",
    "\n",
    "____"
   ]
  },
  {
   "cell_type": "markdown",
   "metadata": {},
   "source": [
    "## 8.2. Metagenome / Metavirome Assembly"
   ]
  },
  {
   "cell_type": "markdown",
   "metadata": {},
   "source": [
    "Assembly of sequencing reads into longer fragments (*contigs*) is performed from shotgun sequencing data. This allows a *__functional__* exploration of microbial communities, as it reconstructs part of the genomic repertoir of the community. Since shotgun sequencing approaches assume minimal bias in the generated sequences, sequence assembly procedure may also reconstruct part of the DNA viral component of the community (or even the sequences from RNA viruses, if employing a previous step of cDNA generation from the extracted RNA)."
   ]
  },
  {
   "cell_type": "markdown",
   "metadata": {},
   "source": [
    "#### PREPARATION"
   ]
  },
  {
   "cell_type": "markdown",
   "metadata": {},
   "source": [
    "__Quality Control__ \n",
    "\n",
    "Sequence assemblies are greatly improved by filtering out faulty sequences. Depending on the nature of your sequencing data, make sure to follow:  \n",
    "\n",
    "- [Pre-processing Illumina Sequences](06.01.PreprocessingIllumina.ipynb)\n",
    "- [Pre-processing ONT Sequences](06.02.PreprocessingONT.ipynb)"
   ]
  },
  {
   "cell_type": "markdown",
   "metadata": {},
   "source": [
    "#### PROCEDURE"
   ]
  },
  {
   "cell_type": "markdown",
   "metadata": {},
   "source": [
    "__Read Binning__  \n",
    "\n",
    "- For binning with the Barnes-Hut Stochastic Neighbor Emdedding algorithm, use the suite of tools available in the [Genome Demarcation]() repository by Ariza and Pinel.\n",
    "- For binning according to the G+C% of sequence reads, use the scripts available in the [Some other repository]()\n",
    "\n",
    "__Sequence Assembly__  \n",
    "\n",
    "- Assembler IDBA-UD (*ref*)\n",
    "\n",
    "(Put parameters and commands here.)\n",
    "\n",
    "- Assembler MetaVelvet (*ref*)\n",
    "\n",
    "(Put parameters and commands here.)"
   ]
  },
  {
   "cell_type": "markdown",
   "metadata": {},
   "source": [
    "#### FOLLOWING STEPS"
   ]
  },
  {
   "cell_type": "markdown",
   "metadata": {},
   "source": [
    "__Iterative Assembly__  \n",
    "\n",
    "- When dealing with highly complexed communities, assembly yields may be improved by following an iterative approach similar to the one implemented in (Muller et al., 2014). To that end, see protocol [Iterative Assembly]().\n",
    "\n",
    "__Annotating Partially or Fully Reconstructed Genomes__\n",
    "\n",
    "- For bacterial sequences, see protocol [Annotating Bacterial Genomes]().\n",
    "- For viral sequences, see protocol [Annotating Viral Genomes]()."
   ]
  },
  {
   "cell_type": "markdown",
   "metadata": {},
   "source": [
    "#### BIBLIOGRAPHY"
   ]
  },
  {
   "cell_type": "markdown",
   "metadata": {},
   "source": [
    "____\n",
    "\n",
    "*This notebook is part of the GitHub repository of Research Protocols maintained by the [__Biodiversity, Evolution and Conservation (BEC) Research Group__](http://www.eafit.edu.co/investigacion/grupos/bec/Paginas/inicio.aspx) at [__Universidad EAFIT__](https://www.eafit.edu.co). The contents of this repository are released under the [CC BY-SA 4.0 International license](https://creativecommons.org/licenses/by-sa/4.0/legalcode).*  \n",
    "\n",
    "*If you find these protocols useful, please cite the repository as indicated below (click on the citation for BibTeX format):*  \n",
    "\n",
    "[BEC, Biodiversity Evolution and Conservation Research Group at Universidad EAFIT. 2020. BEC Research Protocols, v0.1.0, Zenodo, doi:10.5281/zenodo.3870735](BEC-ResearchProtocols.bib)  \n",
    "\n",
    "[![DOI](https://zenodo.org/badge/268137818.svg)](https://zenodo.org/badge/latestdoi/268137818)"
   ]
  }
 ],
 "metadata": {
  "anaconda-cloud": {},
  "kernelspec": {
   "display_name": "Python 3",
   "language": "python",
   "name": "python3"
  },
  "language_info": {
   "codemirror_mode": {
    "name": "ipython",
    "version": 3
   },
   "file_extension": ".py",
   "mimetype": "text/x-python",
   "name": "python",
   "nbconvert_exporter": "python",
   "pygments_lexer": "ipython3",
   "version": "3.7.6"
  }
 },
 "nbformat": 4,
 "nbformat_minor": 4
}
