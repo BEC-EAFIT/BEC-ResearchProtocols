{
 "cells": [
  {
   "cell_type": "markdown",
   "metadata": {},
   "source": [
    "<!--NAVIGATION-->\n",
    "____\n",
    "\n",
    "< [Previous protocol in section]() | [Computational and Microbial Ecology](08.00.ComputationalAndMicrobialEcology.ipynb) | [Contents](00.00.00.Index.ipynb) | [Next protocol in section]() >\n",
    "\n",
    "____"
   ]
  },
  {
   "cell_type": "markdown",
   "metadata": {},
   "source": [
    "# Metagenome / Metavirome Assembly"
   ]
  },
  {
   "cell_type": "markdown",
   "metadata": {},
   "source": [
    "In this section you will find miscellaneous protocols for handling biological digital data. Many of these procedures apply in various areas of research, and thus are placed in their own transdisciplinary section. Protocols from disciplinary tasks may reference this procedures as part of their workflows."
   ]
  },
  {
   "cell_type": "markdown",
   "metadata": {},
   "source": [
    "## Procedure\n",
    "\n",
    "### Read binning\n",
    "\n",
    "- For binning with the Barnes-Hut Stochastic Neighbor Emdedding algorithm, use the suite of tools available in the [Genome Demarcation]() repository by Ariza and Pinel.\n",
    "\n",
    "- For binning according to the G+C% of sequence reads, use the scripts available in the \n",
    "\n",
    "### Sequence Assembly \n",
    "\n",
    "#### IDBA-UD\n",
    "\n",
    "\n",
    "- Las secuencias serán ensambladas mediante el programa IDBA-UD [41].\n",
    "o mediante aquel otro ensamblador metagenómico que al momento del análisis esté demostrando una mayor eficacia y eficiencia. Las secuencias ensambladas serán comparadas con las bases de datos de nucleótidos no redundantes y de proteinas del National Center for Biotechnology Information (NCBI) para identificación de las secuencias de proveniencia viral. En caso que las muestras presenten baja abundancia relativa de secuencias virales, se explorará también la estrategia de preselección de secuencias virales antes del ensamblaje, similar a lo implementado por [58]. Las secuencias identificadas como de origen viral mediante alineamientos con las bases de datos se utilizarán para el reclutamiento de secuencias adicionales de los datos de secuenciación mediante alineadores de secuencias como bowtie2 [29], y re-ensambladas mediante IDBA-UD. Los genomas virales reconstruidos serán anotados y analizados mediante el flujo de análisis Metavir2 [45]."
   ]
  },
  {
   "cell_type": "markdown",
   "metadata": {},
   "source": [
    "____\n",
    "\n",
    "*This notebook is part of the GitHub repository of Research Protocols maintained by the [__Biodiversity, Evolution and Conservation (BEC) Research Group__](http://www.eafit.edu.co/investigacion/grupos/bec/Paginas/inicio.aspx) at [__Universidad EAFIT__](https://www.eafit.edu.co).*\n",
    "\n",
    "*The contents of this repository are released under the [CC BY-SA 4.0 International license](https://creativecommons.org/licenses/by-sa/4.0/legalcode). If you find these protocols useful, please cite the repository as:*  \n",
    "\n",
    "BEC, Biodiversity Evolution and Conservation Research Group at Universidad EAFIT. 2020. Research Protocols, v0.1, Zenodo, doi:  \n",
    "\n",
    "Download [BibTeX File](BEC-ResearchProtocols.bib)"
   ]
  }
 ],
 "metadata": {
  "anaconda-cloud": {},
  "kernelspec": {
   "display_name": "Python 3",
   "language": "python",
   "name": "python3"
  },
  "language_info": {
   "codemirror_mode": {
    "name": "ipython",
    "version": 3
   },
   "file_extension": ".py",
   "mimetype": "text/x-python",
   "name": "python",
   "nbconvert_exporter": "python",
   "pygments_lexer": "ipython3",
   "version": "3.7.6"
  }
 },
 "nbformat": 4,
 "nbformat_minor": 4
}
