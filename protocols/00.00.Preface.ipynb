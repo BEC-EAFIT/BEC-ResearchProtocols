{
 "cells": [
  {
   "cell_type": "markdown",
   "metadata": {},
   "source": [
    "<!--NAVIGATION-->\n",
    "____\n",
    "\n",
    "| [Contents](00.00.00.Index.ipynb) | [Ethics](01.00.Ethics.ipynb) >\n",
    "\n",
    "____"
   ]
  },
  {
   "cell_type": "markdown",
   "metadata": {},
   "source": [
    "# Preface"
   ]
  },
  {
   "cell_type": "markdown",
   "metadata": {},
   "source": [
    "Openness and reproducibility are the pillars that support the advancement of science. Mimicking its main subject area, our interdisciplinary group conducts research in diverse fields. Having our protocols readily available to members of the groups and the greater scientific community helps us ensure consistency and adoption, strengthening our scientific process.\n",
    "\n",
    "Welcome to our repository. We hope you find something of use in this material.\n",
    "\n",
    "(*Members of the group may find working versions of the protocol in the [Labstep](https://app.labstep.com/project/15627/settings/users) platform.*)"
   ]
  },
  {
   "cell_type": "markdown",
   "metadata": {},
   "source": [
    "____\n",
    "\n",
    "*This notebook is part of the GitHub repository of Research Protocols maintained by the [__Biodiversity, Evolution and Conservation (BEC) Research Group__](http://www.eafit.edu.co/investigacion/grupos/bec/Paginas/inicio.aspx) at [__Universidad EAFIT__](https://www.eafit.edu.co). The contents of this repository are released under the [CC BY-SA 4.0 International license](https://creativecommons.org/licenses/by-sa/4.0/legalcode).*  \n",
    "\n",
    "*If you find these protocols useful, please cite the repository as indicated below (click on the citation for BibTeX format):*  \n",
    "\n",
    "[BEC, Biodiversity Evolution and Conservation Research Group at Universidad EAFIT. 2020. BEC Research Protocols, v0.1.0, Zenodo, doi:10.5281/zenodo.3870735](BEC-ResearchProtocols.bib)  \n",
    "\n",
    "[![DOI](https://zenodo.org/badge/268137818.svg)](https://zenodo.org/badge/latestdoi/268137818)"
   ]
  }
 ],
 "metadata": {
  "anaconda-cloud": {},
  "kernelspec": {
   "display_name": "Python 3",
   "language": "python",
   "name": "python3"
  },
  "language_info": {
   "codemirror_mode": {
    "name": "ipython",
    "version": 3
   },
   "file_extension": ".py",
   "mimetype": "text/x-python",
   "name": "python",
   "nbconvert_exporter": "python",
   "pygments_lexer": "ipython3",
   "version": "3.7.6"
  }
 },
 "nbformat": 4,
 "nbformat_minor": 4
}
