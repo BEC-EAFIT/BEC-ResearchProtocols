{
 "cells": [
  {
   "cell_type": "markdown",
   "metadata": {},
   "source": [
    "### BEC Research Protocols\n",
    "____"
   ]
  },
  {
   "cell_type": "markdown",
   "metadata": {},
   "source": [
    "### Table of Contents\n",
    "\n",
    "### [Preface](00.00-Preface.ipynb)"
   ]
  },
  {
   "cell_type": "markdown",
   "metadata": {},
   "source": [
    "### [1. Ethics and Policy Guidelines and Procedures](01.00.Ethics.ipynb)"
   ]
  },
  {
   "cell_type": "markdown",
   "metadata": {
    "jupyter": {
     "source_hidden": true
    }
   },
   "source": [
    "<!-- Contents in \"Ethics and Policy Guidelines and Procedures\" -->\n",
    "- [Ethical Conduct in Research](01.01.EthicalConduct.ipynb)\n",
    "- [Ethics Committee Procedures](01.02.EthicsCommitteeProcedures.ipynb)\n",
    "- [Research Norms and Regulations](01.03.NormsAndRegulations.ipynb)"
   ]
  },
  {
   "cell_type": "markdown",
   "metadata": {},
   "source": [
    "### [2. Data Management](02.00.DataManagement.ipynb)"
   ]
  },
  {
   "cell_type": "markdown",
   "metadata": {},
   "source": [
    "### [3. Molecular Biology](03.00.MolecularBiology.ipynb)"
   ]
  },
  {
   "cell_type": "markdown",
   "metadata": {
    "jupyter": {
     "source_hidden": true
    }
   },
   "source": [
    "- [DNA Extraction from Body Tissues](03.01.DNAExtractionTissues.ipynb)\n",
    "- [DNA Extraction from Bacterial Cultures](03.02.DNAExtractionBacteria.ipynb)\n",
    "- [DNA Extraction from Soil Samples](03.03.DNAExtractionSoil.ipynb)"
   ]
  },
  {
   "cell_type": "markdown",
   "metadata": {},
   "source": [
    "### [4. Ecosystem Field Studies](04.00.EcosystemFieldStudies.ipynb)"
   ]
  },
  {
   "cell_type": "markdown",
   "metadata": {
    "jupyter": {
     "source_hidden": true
    }
   },
   "source": [
    "<!-- Contents in \"Ecosystem Field Studies\" -->\n",
    "- [Sampling Populations of Chiroptera](04.01.Bats.ipynb)\n",
    "- [Sampling Populations of Small Ground and Arboreal Mammals](04.02.GroundArborealMammals.ipynb)\n",
    "- [Sampling Populations of Amphibians and Reptiles](04.03.AmphibiansReptiles.ipynb)\n",
    "- [Collecting and Preserving Plant Material](04.04.PlantMaterial.ipynb)\n",
    "- [Collecting Data for Allometric Models](04.05.Allometry.ipynb)"
   ]
  },
  {
   "cell_type": "markdown",
   "metadata": {},
   "source": [
    "### [5. Microbiology and Microbiomes](05.00.MicrobiologyMicrobiomes.ipynb)"
   ]
  },
  {
   "cell_type": "markdown",
   "metadata": {
    "jupyter": {
     "source_hidden": true
    }
   },
   "source": [
    "<!-- Contents in \"Microbiology and Microbiomes\" -->\n",
    "- [Cultivating Anaerobic Microorganisms](05.01.CultivatingAnaerobes.ipynb)\n",
    "- [Cultivating Acidophilic Microalgae](05.02.AcidophilicMicroalgae.ipynb)"
   ]
  },
  {
   "cell_type": "markdown",
   "metadata": {},
   "source": [
    "### [6. Bioinformatics](06.00.Bioinformatics.ipynb)"
   ]
  },
  {
   "cell_type": "markdown",
   "metadata": {
    "jupyter": {
     "source_hidden": true
    }
   },
   "source": [
    "<!-- Contents in \"Bioinformatics\" -->\n",
    "- [Pre-processing Illumina Sequences](06.01.PreprocessingIllumina.ipynb)\n",
    "- [Pre-processing ONT Sequences](06.02.PreprocessingONT.ipynb)"
   ]
  },
  {
   "cell_type": "markdown",
   "metadata": {},
   "source": [
    "### [7. Phylogenetics](07.00.Phylogenetics.ipynb)"
   ]
  },
  {
   "cell_type": "markdown",
   "metadata": {
    "jupyter": {
     "source_hidden": true
    }
   },
   "source": [
    "<!-- Contents in \"Phylogenetics\" -->\n",
    "- [Reconstructing Phylogenies from Taxonomic Gene Markers](07.01.PhylogeniesGeneMarkers.ipynb)"
   ]
  },
  {
   "cell_type": "markdown",
   "metadata": {},
   "source": [
    "### [8. Computational and Microbial Ecology](08.00.ComputationalAndMicrobialEcology.ipynb)"
   ]
  },
  {
   "cell_type": "markdown",
   "metadata": {
    "jupyter": {
     "source_hidden": true
    }
   },
   "source": [
    "<!-- Contents in \"Computational and Microbial Ecology\" -->\n",
    "- [Molecular Barcoding Studies of Microbial Communities](08.01.BarcodingMicrobialCommunities.ipynb)\n",
    "- [Metagenome and Metavirome Assembly](08.02.MetagenomeMetaviromeAssembly.ipynb)\n",
    "- [Diversity Analyses](08.03.DiversityAnalyses.ipynb)"
   ]
  },
  {
   "cell_type": "markdown",
   "metadata": {},
   "source": [
    "### [9. Image Analysis and Remote Sensing](09.00.ImageAnalysisRemoteSensing.ipynb)"
   ]
  },
  {
   "cell_type": "markdown",
   "metadata": {
    "jupyter": {
     "source_hidden": true
    }
   },
   "source": [
    "<!-- Contents in \"Image Analysis and Remote Sensing\" -->\n",
    "- [Downloading and Pre-processing Landsat Data](09.01.PreprocessingLandsat.ipynb)\n",
    "- [Downloading and Pre-processing Sentinel-2 Data](09.02.PreprocessingSentinel2.ipynb)\n",
    "- [Downloading and Pre-processing Sentinel-5P Data](09.03.PreprocessingSentinel5P.ipynb)\n",
    "- [Building Orthomosaics from UAV Images](09.04.OrthoMosaics.ipynb)"
   ]
  },
  {
   "cell_type": "markdown",
   "metadata": {},
   "source": [
    "### [10. Literature Review Studies](08.00.LiteratureReviewStudies.ipynb)"
   ]
  },
  {
   "cell_type": "markdown",
   "metadata": {
    "jupyter": {
     "source_hidden": true
    }
   },
   "source": [
    "<!-- Contents in \"Literature Review Studies\" -->\n",
    "- [Systematic Literature Review](10.01.SystematicLiteratureReview.ipynb)\n",
    "- [Meta-analyses](10.02.MetaAnalyses.ipynb)"
   ]
  },
  {
   "cell_type": "markdown",
   "metadata": {},
   "source": [
    "____\n",
    "\n",
    "*This notebook is part of the GitHub repository of Research Protocols maintained by the [__Biodiversity, Evolution and Conservation (BEC) Research Group__](http://www.eafit.edu.co/investigacion/grupos/bec/Paginas/inicio.aspx) at [__Universidad EAFIT__](https://www.eafit.edu.co).*\n",
    "\n",
    "*The contents of this repository are released under the [CC BY-SA 4.0 International license](https://creativecommons.org/licenses/by-sa/4.0/legalcode). If you find these protocols useful, please cite the repository as:*  \n",
    "\n",
    "BEC, Biodiversity Evolution and Conservation Research Group at Universidad EAFIT. 2020. BEC Research Protocols, v0.1, Zenodo, doi:  \n",
    "\n",
    "Download [BibTeX File](BEC-ResearchProtocols.bib)"
   ]
  }
 ],
 "metadata": {
  "kernelspec": {
   "display_name": "Python 3",
   "language": "python",
   "name": "python3"
  },
  "language_info": {
   "codemirror_mode": {
    "name": "ipython",
    "version": 3
   },
   "file_extension": ".py",
   "mimetype": "text/x-python",
   "name": "python",
   "nbconvert_exporter": "python",
   "pygments_lexer": "ipython3",
   "version": "3.7.6"
  }
 },
 "nbformat": 4,
 "nbformat_minor": 4
}
