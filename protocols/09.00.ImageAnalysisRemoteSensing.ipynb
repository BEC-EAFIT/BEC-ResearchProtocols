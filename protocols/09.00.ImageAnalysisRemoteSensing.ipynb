{
 "cells": [
  {
   "cell_type": "markdown",
   "metadata": {},
   "source": [
    "<!--NAVIGATION-->\n",
    "____\n",
    "\n",
    "< [Computational and Microbial Ecology](08.00.ComputationalAndMicrobialEcology.ipynb) | [Contents](00.00.00.Index.ipynb) | [Literature Review Studies](10.00.LiteratureReviewStudies.ipynb) >\n",
    "\n",
    "____"
   ]
  },
  {
   "cell_type": "markdown",
   "metadata": {},
   "source": [
    "# 9. Image Analysis and Remote Sensing"
   ]
  },
  {
   "cell_type": "markdown",
   "metadata": {},
   "source": [
    "In this section you will find miscellaneous protocols for handling biological digital data. Many of these procedures apply in various areas of research, and thus are placed in their own transdisciplinary section. Protocols from disciplinary tasks may reference this procedures as part of their workflows."
   ]
  },
  {
   "cell_type": "markdown",
   "metadata": {},
   "source": [
    "### In this section:\n",
    "<!-- Contents in \"Image Analysis and Remote Sensing\" -->\n",
    "- [Downloading and Pre-processing Landsat Data](09.01.PreprocessingLandsat.ipynb)\n",
    "- [Downloading and Pre-processing Sentinel-2 Data](09.02.PreprocessingSentinel2.ipynb)\n",
    "- [Downloading and Pre-processing Sentinel-5P Data](09.03.PreprocessingSentinel5P.ipynb)\n",
    "- [Building Orthomosaics from UAV Images](09.04.OrthoMosaics.ipynb)"
   ]
  },
  {
   "cell_type": "markdown",
   "metadata": {},
   "source": [
    "____\n",
    "\n",
    "*This notebook is part of the GitHub repository of Research Protocols maintained by the [__Biodiversity, Evolution and Conservation (BEC) Research Group__](http://www.eafit.edu.co/investigacion/grupos/bec/Paginas/inicio.aspx) at [__Universidad EAFIT__](https://www.eafit.edu.co). The contents of this repository are released under the [CC BY-SA 4.0 International license](https://creativecommons.org/licenses/by-sa/4.0/legalcode).*  \n",
    "\n",
    "*If you find these protocols useful, please cite the repository as indicated below (click on the citation for BibTeX format):*  \n",
    "\n",
    "[BEC, Biodiversity Evolution and Conservation Research Group at Universidad EAFIT. 2020. BEC Research Protocols, v0.1.0, Zenodo, doi:10.5281/zenodo.3870735](BEC-ResearchProtocols.bib)  \n",
    "\n",
    "[![DOI](https://zenodo.org/badge/268137818.svg)](https://zenodo.org/badge/latestdoi/268137818)"
   ]
  }
 ],
 "metadata": {
  "anaconda-cloud": {},
  "kernelspec": {
   "display_name": "Python 3",
   "language": "python",
   "name": "python3"
  },
  "language_info": {
   "codemirror_mode": {
    "name": "ipython",
    "version": 3
   },
   "file_extension": ".py",
   "mimetype": "text/x-python",
   "name": "python",
   "nbconvert_exporter": "python",
   "pygments_lexer": "ipython3",
   "version": "3.7.6"
  }
 },
 "nbformat": 4,
 "nbformat_minor": 4
}
